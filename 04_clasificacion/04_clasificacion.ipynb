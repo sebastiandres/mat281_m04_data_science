{
 "cells": [
  {
   "cell_type": "code",
   "execution_count": null,
   "metadata": {
    "slideshow": {
     "slide_type": "skip"
    }
   },
   "outputs": [],
   "source": [
    "# Configuracion para recargar módulos y librerías \n",
    "%reload_ext autoreload\n",
    "%autoreload 2"
   ]
  },
  {
   "cell_type": "markdown",
   "metadata": {
    "slideshow": {
     "slide_type": "slide"
    }
   },
   "source": [
    "# MAT281\n",
    "\n",
    "## Aplicaciones de la Matemática en la Ingeniería\n",
    "\n",
    "Puedes ejecutar este jupyter notebook de manera interactiva:\n",
    "\n",
    "[![Binder](../shared/images/jupyter_binder.png)](https://mybinder.org/v2/gh/sebastiandres/mat281_m04_data_science/master?filepath=04_clasificacion/04_clasificacion.ipynb)\n",
    "\n",
    "[![Colab](../shared/images/jupyter_colab.png)](https://colab.research.google.com/github/sebastiandres/mat281_m04_data_science/blob/master//04_clasificacion/04_clasificacion.ipynb)"
   ]
  },
  {
   "cell_type": "markdown",
   "metadata": {
    "slideshow": {
     "slide_type": "slide"
    }
   },
   "source": [
    "## ¿Qué contenido aprenderemos?\n",
    "* Clasificación\n",
    "* Regresión Logística"
   ]
  },
  {
   "cell_type": "markdown",
   "metadata": {},
   "source": [
    "## Motivación\n",
    "* La __clasificación__ es un problema muy común puesto que permite la toma de decisiones. \n",
    "- __Regresión logística__ es un algoritmo que surge naturalmente como extensión de regresión lineal pero en el contexto de clasificación."
   ]
  },
  {
   "cell_type": "markdown",
   "metadata": {
    "slideshow": {
     "slide_type": "slide"
    }
   },
   "source": [
    "## Clasficación\n",
    "### Wine Dataset\n",
    "<img src=\"images/wine.jpg\" alt=\"\" width=\"600px\" align=\"middle\"/>"
   ]
  },
  {
   "cell_type": "markdown",
   "metadata": {
    "slideshow": {
     "slide_type": "slide"
    }
   },
   "source": [
    "## Clasficación\n",
    "### Wine Dataset\n",
    "\n",
    "Los datos corresponden a 3 cultivos diferentes de vinos de la misma región de Italia, y que han sido identificados con las etiquetas 1, 2 y 3. Para cada tipo de vino se realizado 13 análisis químicos:\n",
    "\n",
    "1. Alcohol \n",
    "2.  Malic acid \n",
    "3. Ash \n",
    "4. Alcalinity of ash \n",
    "5. Magnesium \n",
    "6. Total phenols \n",
    "7. Flavanoids \n",
    "8. Nonflavanoid phenols \n",
    "9. Proanthocyanins \n",
    "10. Color intensity \n",
    "11. Hue \n",
    "12. OD280/OD315 of diluted wines \n",
    "13. Proline \n",
    "\n",
    "\n",
    "La base de datos contiene 178 muestras distintas en total."
   ]
  },
  {
   "cell_type": "markdown",
   "metadata": {
    "slideshow": {
     "slide_type": "slide"
    }
   },
   "source": [
    "# Wine dataset\n",
    "\n",
    "Conocemos los valores y las etiquetas, y se desea obtener la etiqueta de una muestra sin etiquetar, por lo que el problema es de __clasificación__:\n",
    "* Tenemos $ X \\in R^{n \\times m} \\textrm{ y } Y \\in N^m $  y buscamos las etiquetas de $ x \\in R^n$.\n",
    "* ¿A qué grupo pertenece este nuevo dato?"
   ]
  },
  {
   "cell_type": "markdown",
   "metadata": {
    "slideshow": {
     "slide_type": "slide"
    }
   },
   "source": [
    "## Regresión Lineal\n",
    "Se buscaba entrenar una función lineal\n",
    "$$h_{\\theta}(x) = \\theta_0 + \\theta_1 x_1 + ... + \\theta_n x_n$$ de\n",
    "forma que se minimice\n",
    "$$J(\\theta) = \\frac{1}{2} \\sum_{i=1}^{m} \\left( h_{\\theta}(x^{(i)}) - y^{(i)}\\right)^2$$\n"
   ]
  },
  {
   "cell_type": "markdown",
   "metadata": {
    "slideshow": {
     "slide_type": "slide"
    }
   },
   "source": [
    "## Regresión Logística\n",
    "Buscaremos entrenar una función\n",
    "logística\n",
    "$$h_{\\theta}(x) = \\frac{1}{1 + e^{-(\\theta_0 + \\theta_1 x_1 + ... + \\theta_n x_n)}}$$\n",
    "\n",
    "de forma que se minimice\n",
    "\n",
    "$$J(\\theta) = \\frac{1}{2} \\sum_{i=1}^{m} \\left( h_{\\theta}(x^{(i)}) - y^{(i)}\\right)^2$$\n"
   ]
  },
  {
   "cell_type": "markdown",
   "metadata": {
    "slideshow": {
     "slide_type": "slide"
    }
   },
   "source": [
    "## Ejemplo 2D\n",
    "¿Conocen el accidente del Space Shuttle Challeger?\n",
    "\n",
    "28 Junio 1986. A pesar de existir evidencia de funcionamiento defectuoso, se da luz verde al lanzamiento.\n",
    "\n",
    "<img src=\"images/Challenger1.gif\" alt=\"\" width=\"600px\" align=\"middle\"/>"
   ]
  },
  {
   "cell_type": "markdown",
   "metadata": {
    "slideshow": {
     "slide_type": "slide"
    }
   },
   "source": [
    "## Ejemplo 2D\n",
    "\n",
    "A los 73 segundos de vuelo, el transbordador espacial explota, matando a los 7 pasajeros.\n",
    "\n",
    "<img src=\"images/Challenger2.jpg\" alt=\"\" width=\"600px\" align=\"middle\"/>"
   ]
  },
  {
   "cell_type": "markdown",
   "metadata": {
    "slideshow": {
     "slide_type": "slide"
    }
   },
   "source": [
    "## Ejemplo 2D\n",
    "Como parte del debriefing del accidente, se obtuvieron los siguientes datos"
   ]
  },
  {
   "cell_type": "code",
   "execution_count": 1,
   "metadata": {
    "collapsed": false
   },
   "outputs": [
    {
     "name": "stdout",
     "output_type": "stream",
     "text": [
      "\"Temp\"\t\"BadRings\"\n",
      "53\t3\n",
      "56\t1\n",
      "57\t1\n",
      "63\t0\n",
      "66\t0\n",
      "67\t0\n",
      "67\t0\n",
      "67\t0\n",
      "68\t0\n",
      "69\t0\n",
      "70\t0\n",
      "70\t1\n",
      "70\t1\n",
      "70\t1\n",
      "72\t0\n",
      "73\t0\n",
      "75\t0\n",
      "75\t2\n",
      "76\t0\n",
      "76\t0\n",
      "78\t0\n",
      "79\t0\n",
      "80\t0\n",
      "81\t0\n"
     ]
    }
   ],
   "source": [
    "%%bash\n",
    "cat data/Challenger.txt"
   ]
  },
  {
   "cell_type": "markdown",
   "metadata": {
    "slideshow": {
     "slide_type": "slide"
    }
   },
   "source": [
    "## Ejemplo 2D\n",
    "Grafiquemos los datos"
   ]
  },
  {
   "cell_type": "code",
   "execution_count": 48,
   "metadata": {},
   "outputs": [
    {
     "data": {
      "text/html": [
       "<div>\n",
       "<style scoped>\n",
       "    .dataframe tbody tr th:only-of-type {\n",
       "        vertical-align: middle;\n",
       "    }\n",
       "\n",
       "    .dataframe tbody tr th {\n",
       "        vertical-align: top;\n",
       "    }\n",
       "\n",
       "    .dataframe thead th {\n",
       "        text-align: right;\n",
       "    }\n",
       "</style>\n",
       "<table border=\"1\" class=\"dataframe\">\n",
       "  <thead>\n",
       "    <tr style=\"text-align: right;\">\n",
       "      <th></th>\n",
       "      <th>temp_f</th>\n",
       "      <th>nm_bad_rings</th>\n",
       "    </tr>\n",
       "  </thead>\n",
       "  <tbody>\n",
       "    <tr>\n",
       "      <th>0</th>\n",
       "      <td>53</td>\n",
       "      <td>3</td>\n",
       "    </tr>\n",
       "    <tr>\n",
       "      <th>1</th>\n",
       "      <td>56</td>\n",
       "      <td>1</td>\n",
       "    </tr>\n",
       "    <tr>\n",
       "      <th>2</th>\n",
       "      <td>57</td>\n",
       "      <td>1</td>\n",
       "    </tr>\n",
       "    <tr>\n",
       "      <th>3</th>\n",
       "      <td>63</td>\n",
       "      <td>0</td>\n",
       "    </tr>\n",
       "    <tr>\n",
       "      <th>4</th>\n",
       "      <td>66</td>\n",
       "      <td>0</td>\n",
       "    </tr>\n",
       "  </tbody>\n",
       "</table>\n",
       "</div>"
      ],
      "text/plain": [
       "   temp_f  nm_bad_rings\n",
       "0      53             3\n",
       "1      56             1\n",
       "2      57             1\n",
       "3      63             0\n",
       "4      66             0"
      ]
     },
     "execution_count": 48,
     "metadata": {},
     "output_type": "execute_result"
    }
   ],
   "source": [
    "import numpy as np\n",
    "import pandas as pd\n",
    "import altair as alt\n",
    "challenger = pd.DataFrame(np.loadtxt(\"data/Challenger.txt\", skiprows=1).astype(int), columns=[\"temp_f\", \"nm_bad_rings\"])\n",
    "challenger.head()"
   ]
  },
  {
   "cell_type": "code",
   "execution_count": 50,
   "metadata": {},
   "outputs": [
    {
     "data": {
      "application/vnd.vegalite.v2+json": {
       "$schema": "https://vega.github.io/schema/vega-lite/v2.4.3.json",
       "config": {
        "view": {
         "height": 300,
         "width": 400
        }
       },
       "data": {
        "values": [
         {
          "nm_bad_rings": 3,
          "temp_f": 53
         },
         {
          "nm_bad_rings": 1,
          "temp_f": 56
         },
         {
          "nm_bad_rings": 1,
          "temp_f": 57
         },
         {
          "nm_bad_rings": 0,
          "temp_f": 63
         },
         {
          "nm_bad_rings": 0,
          "temp_f": 66
         },
         {
          "nm_bad_rings": 0,
          "temp_f": 67
         },
         {
          "nm_bad_rings": 0,
          "temp_f": 67
         },
         {
          "nm_bad_rings": 0,
          "temp_f": 67
         },
         {
          "nm_bad_rings": 0,
          "temp_f": 68
         },
         {
          "nm_bad_rings": 0,
          "temp_f": 69
         },
         {
          "nm_bad_rings": 0,
          "temp_f": 70
         },
         {
          "nm_bad_rings": 1,
          "temp_f": 70
         },
         {
          "nm_bad_rings": 1,
          "temp_f": 70
         },
         {
          "nm_bad_rings": 1,
          "temp_f": 70
         },
         {
          "nm_bad_rings": 0,
          "temp_f": 72
         },
         {
          "nm_bad_rings": 0,
          "temp_f": 73
         },
         {
          "nm_bad_rings": 0,
          "temp_f": 75
         },
         {
          "nm_bad_rings": 2,
          "temp_f": 75
         },
         {
          "nm_bad_rings": 0,
          "temp_f": 76
         },
         {
          "nm_bad_rings": 0,
          "temp_f": 76
         },
         {
          "nm_bad_rings": 0,
          "temp_f": 78
         },
         {
          "nm_bad_rings": 0,
          "temp_f": 79
         },
         {
          "nm_bad_rings": 0,
          "temp_f": 80
         },
         {
          "nm_bad_rings": 0,
          "temp_f": 81
         }
        ]
       },
       "encoding": {
        "x": {
         "field": "temp_f",
         "scale": {
          "zero": false
         },
         "title": "Temperature [F]",
         "type": "quantitative"
        },
        "y": {
         "field": "nm_bad_rings",
         "title": "# Bad Rings",
         "type": "quantitative"
        }
       },
       "height": 500,
       "mark": {
        "size": 100,
        "type": "circle"
       },
       "title": "Exito o Falla en lanzamiento de Challenger",
       "width": 800
      },
      "image/png": "[encoded data removed]",
      "text/plain": [
       "<VegaLite 2 object>\n",
       "\n",
       "If you see this message, it means the renderer has not been properly enabled\n",
       "for the frontend that you are using. For more information, see\n",
       "https://altair-viz.github.io/user_guide/troubleshooting.html\n"
      ]
     },
     "execution_count": 50,
     "metadata": {},
     "output_type": "execute_result"
    }
   ],
   "source": [
    "alt.Chart(challenger).mark_circle(size=100).encode(\n",
    "    x=alt.X(\"temp_f\", scale=alt.Scale(zero=False), title=\"Temperature [F]\"),\n",
    "    y=alt.Y(\"nm_bad_rings\", title=\"# Bad Rings\")\n",
    ").properties(\n",
    "    title=\"Exito o Falla en lanzamiento de Challenger\",\n",
    "    width=800,\n",
    "    height=500\n",
    ")"
   ]
  },
  {
   "cell_type": "markdown",
   "metadata": {
    "slideshow": {
     "slide_type": "slide"
    }
   },
   "source": [
    "## Ejemplo 2D\n",
    "Nos gustaría saber en qué condiciones se produce accidente. No nos importa el número de fallas, sólo si existe falla o no."
   ]
  },
  {
   "cell_type": "code",
   "execution_count": 84,
   "metadata": {},
   "outputs": [],
   "source": [
    "challenger = challenger.assign(temp_c=lambda x: ((x[\"temp_f\"] - 32.) / 1.8).round(2),\n",
    "                               is_failure=lambda x: x[\"nm_bad_rings\"].apply(lambda y: 1 if y==0 else 0),\n",
    "                               ds_failure=lambda x: x[\"is_failure\"].apply(lambda y: \"Falla\" if y==0 else \"Éxito\")\n",
    "                              )"
   ]
  },
  {
   "cell_type": "code",
   "execution_count": 87,
   "metadata": {},
   "outputs": [
    {
     "data": {
      "application/vnd.vegalite.v2+json": {
       "$schema": "https://vega.github.io/schema/vega-lite/v2.4.3.json",
       "config": {
        "view": {
         "height": 300,
         "width": 400
        }
       },
       "data": {
        "values": [
         {
          "ds_failure": "Falla",
          "is_failure": 0,
          "nm_bad_rings": 3,
          "temp_c": 11.67,
          "temp_f": 53,
          "tmp_c": 11.67
         },
         {
          "ds_failure": "Falla",
          "is_failure": 0,
          "nm_bad_rings": 1,
          "temp_c": 13.33,
          "temp_f": 56,
          "tmp_c": 13.33
         },
         {
          "ds_failure": "Falla",
          "is_failure": 0,
          "nm_bad_rings": 1,
          "temp_c": 13.89,
          "temp_f": 57,
          "tmp_c": 13.89
         },
         {
          "ds_failure": "Éxito",
          "is_failure": 1,
          "nm_bad_rings": 0,
          "temp_c": 17.22,
          "temp_f": 63,
          "tmp_c": 17.22
         },
         {
          "ds_failure": "Éxito",
          "is_failure": 1,
          "nm_bad_rings": 0,
          "temp_c": 18.89,
          "temp_f": 66,
          "tmp_c": 18.89
         },
         {
          "ds_failure": "Éxito",
          "is_failure": 1,
          "nm_bad_rings": 0,
          "temp_c": 19.44,
          "temp_f": 67,
          "tmp_c": 19.44
         },
         {
          "ds_failure": "Éxito",
          "is_failure": 1,
          "nm_bad_rings": 0,
          "temp_c": 19.44,
          "temp_f": 67,
          "tmp_c": 19.44
         },
         {
          "ds_failure": "Éxito",
          "is_failure": 1,
          "nm_bad_rings": 0,
          "temp_c": 19.44,
          "temp_f": 67,
          "tmp_c": 19.44
         },
         {
          "ds_failure": "Éxito",
          "is_failure": 1,
          "nm_bad_rings": 0,
          "temp_c": 20,
          "temp_f": 68,
          "tmp_c": 20
         },
         {
          "ds_failure": "Éxito",
          "is_failure": 1,
          "nm_bad_rings": 0,
          "temp_c": 20.56,
          "temp_f": 69,
          "tmp_c": 20.56
         },
         {
          "ds_failure": "Éxito",
          "is_failure": 1,
          "nm_bad_rings": 0,
          "temp_c": 21.11,
          "temp_f": 70,
          "tmp_c": 21.11
         },
         {
          "ds_failure": "Falla",
          "is_failure": 0,
          "nm_bad_rings": 1,
          "temp_c": 21.11,
          "temp_f": 70,
          "tmp_c": 21.11
         },
         {
          "ds_failure": "Falla",
          "is_failure": 0,
          "nm_bad_rings": 1,
          "temp_c": 21.11,
          "temp_f": 70,
          "tmp_c": 21.11
         },
         {
          "ds_failure": "Falla",
          "is_failure": 0,
          "nm_bad_rings": 1,
          "temp_c": 21.11,
          "temp_f": 70,
          "tmp_c": 21.11
         },
         {
          "ds_failure": "Éxito",
          "is_failure": 1,
          "nm_bad_rings": 0,
          "temp_c": 22.22,
          "temp_f": 72,
          "tmp_c": 22.22
         },
         {
          "ds_failure": "Éxito",
          "is_failure": 1,
          "nm_bad_rings": 0,
          "temp_c": 22.78,
          "temp_f": 73,
          "tmp_c": 22.78
         },
         {
          "ds_failure": "Éxito",
          "is_failure": 1,
          "nm_bad_rings": 0,
          "temp_c": 23.89,
          "temp_f": 75,
          "tmp_c": 23.89
         },
         {
          "ds_failure": "Falla",
          "is_failure": 0,
          "nm_bad_rings": 2,
          "temp_c": 23.89,
          "temp_f": 75,
          "tmp_c": 23.89
         },
         {
          "ds_failure": "Éxito",
          "is_failure": 1,
          "nm_bad_rings": 0,
          "temp_c": 24.44,
          "temp_f": 76,
          "tmp_c": 24.44
         },
         {
          "ds_failure": "Éxito",
          "is_failure": 1,
          "nm_bad_rings": 0,
          "temp_c": 24.44,
          "temp_f": 76,
          "tmp_c": 24.44
         },
         {
          "ds_failure": "Éxito",
          "is_failure": 1,
          "nm_bad_rings": 0,
          "temp_c": 25.56,
          "temp_f": 78,
          "tmp_c": 25.56
         },
         {
          "ds_failure": "Éxito",
          "is_failure": 1,
          "nm_bad_rings": 0,
          "temp_c": 26.11,
          "temp_f": 79,
          "tmp_c": 26.11
         },
         {
          "ds_failure": "Éxito",
          "is_failure": 1,
          "nm_bad_rings": 0,
          "temp_c": 26.67,
          "temp_f": 80,
          "tmp_c": 26.67
         },
         {
          "ds_failure": "Éxito",
          "is_failure": 1,
          "nm_bad_rings": 0,
          "temp_c": 27.22,
          "temp_f": 81,
          "tmp_c": 27.22
         }
        ]
       },
       "encoding": {
        "color": {
         "field": "ds_failure",
         "type": "nominal"
        },
        "x": {
         "field": "temp_c",
         "scale": {
          "zero": false
         },
         "title": "Temperature [C]",
         "type": "quantitative"
        },
        "y": {
         "field": "is_failure",
         "title": "Success/Failure",
         "type": "quantitative"
        }
       },
       "height": 500,
       "mark": {
        "size": 100,
        "type": "circle"
       },
       "title": "Exito o Falla en lanzamiento de Challenger",
       "width": 800
      },
      "image/png": "[encoded data removed]",
      "text/plain": [
       "<VegaLite 2 object>\n",
       "\n",
       "If you see this message, it means the renderer has not been properly enabled\n",
       "for the frontend that you are using. For more information, see\n",
       "https://altair-viz.github.io/user_guide/troubleshooting.html\n"
      ]
     },
     "execution_count": 87,
     "metadata": {},
     "output_type": "execute_result"
    }
   ],
   "source": [
    "alt.Chart(challenger).mark_circle(size=100).encode(\n",
    "    x=alt.X(\"temp_c\", scale=alt.Scale(zero=False), title=\"Temperature [C]\"),\n",
    "    y=alt.Y(\"is_failure:Q\", title=\"Success/Failure\"),\n",
    "    color=\"ds_failure:N\"\n",
    ").properties(\n",
    "    title=\"Exito o Falla en lanzamiento de Challenger\",\n",
    "    width=800,\n",
    "    height=500\n",
    ")"
   ]
  },
  {
   "cell_type": "markdown",
   "metadata": {
    "slideshow": {
     "slide_type": "slide"
    }
   },
   "source": [
    "## Modelo\n",
    "\n",
    "Definimos como\n",
    "antes\n",
    "\n",
    "$$\\begin{aligned}\n",
    "Y &= \\begin{bmatrix}y^{(1)} \\\\ y^{(2)} \\\\ \\vdots \\\\ y^{(m)}\\end{bmatrix}\\end{aligned}$$\n",
    "\n",
    "y\n",
    "\n",
    "$$\\begin{aligned}\n",
    "X = \n",
    "\\begin{bmatrix} \n",
    "1 & x^{(1)}_1 & \\dots & x^{(1)}_n \\\\ \n",
    "1 & x^{(2)}_1 & \\dots & x^{(2)}_n \\\\\n",
    "\\vdots & \\vdots & & \\vdots \\\\\n",
    "1 & x^{(m)}_1 & \\dots & x^{(m)}_n \\\\\n",
    "\\end{bmatrix}\\end{aligned}$$\n"
   ]
  },
  {
   "cell_type": "markdown",
   "metadata": {
    "slideshow": {
     "slide_type": "slide"
    }
   },
   "source": [
    "## Modelo\n",
    "\n",
    "Luego la\n",
    "evaluación de todos los datos puede escribirse matricialmente como\n",
    "\n",
    "$$\\begin{aligned}\n",
    "X \\theta &= \n",
    "\\begin{bmatrix}\n",
    "1 & x_1^{(1)} & ... & x_n^{(1)} \\\\\n",
    "\\vdots & \\vdots & & \\vdots \\\\\n",
    "1 & x_1^{(m)} & ... & x_n^{(m)} \\\\\n",
    "\\end{bmatrix}\n",
    "\\begin{bmatrix}\\theta_0 \\\\ \\theta_1 \\\\ \\vdots \\\\ \\theta_n\\end{bmatrix} \\\\\n",
    "& = \n",
    "\\begin{bmatrix}\n",
    "1 \\theta_0 + x^{(1)}_1 \\theta_1 + ... + x^{(1)}_n \\theta_n \\\\\n",
    "\\vdots \\\\\n",
    "1 \\theta_0 + x^{(m)}_1 \\theta_1 + ... + x^{(m)}_n \\theta_n \\\\\n",
    "\\end{bmatrix}\\end{aligned}$$\n"
   ]
  },
  {
   "cell_type": "markdown",
   "metadata": {
    "slideshow": {
     "slide_type": "slide"
    }
   },
   "source": [
    "## Modelo\n",
    "\n",
    "Nuestro problema\n",
    "es encontrar un “buen” conjunto de valores $\\theta$ \n",
    "de modo que\n",
    "\n",
    "$$\\begin{aligned}\n",
    "g(X\\theta)\n",
    "\\approx\n",
    "Y\\end{aligned}$$\n",
    "\n",
    "donde $g(z)$ es la función sigmoide (en. sigmoid function).\n",
    "$$g(z) = \\frac{1}{1+e^{-z}}$$\n"
   ]
  },
  {
   "cell_type": "markdown",
   "metadata": {
    "slideshow": {
     "slide_type": "slide"
    }
   },
   "source": [
    "## Interpretación gráfica"
   ]
  },
  {
   "cell_type": "code",
   "execution_count": 10,
   "metadata": {
    "collapsed": false
   },
   "outputs": [
    {
     "data": {
      "image/png": "[encoded data removed]",
      "text/plain": [
       "<matplotlib.figure.Figure at 0x7f322a5b91d0>"
      ]
     },
     "metadata": {},
     "output_type": "display_data"
    }
   ],
   "source": [
    "from matplotlib import pyplot as plt\n",
    "import numpy as np\n",
    "\n",
    "def sigmoid(z):\n",
    "    return (1+np.exp(-z))**(-1.)\n",
    "\n",
    "z = np.linspace(-5,5,100)\n",
    "g = sigmoid(z)\n",
    "fig = plt.figure(figsize=(16,8))\n",
    "plt.plot(z,sigmoid(z), lw=2.0)\n",
    "plt.plot(z,sigmoid(z*2), lw=2.0)\n",
    "plt.plot(z,sigmoid(z-2), lw=2.0)\n",
    "plt.grid(\"on\")\n",
    "plt.show()"
   ]
  },
  {
   "cell_type": "markdown",
   "metadata": {
    "slideshow": {
     "slide_type": "slide"
    }
   },
   "source": [
    "#### Modelo\n",
    "## Función Sigmoide\n",
    "\n",
    "La función\n",
    "sigmoide $g(z) = (1+e^{-z})^{-1}$ tiene la siguiente propiedad:\n",
    "$$g'(z) =  g(z)(1-g(z))$$"
   ]
  },
  {
   "cell_type": "markdown",
   "metadata": {
    "slideshow": {
     "slide_type": "slide"
    }
   },
   "source": [
    "#### Modelo\n",
    "## Función Sigmoide\n",
    "\n",
    "$g(z) = (1+e^{-z})^{-1}$ y $g'(z) =  g(z)(1-g(z))$.\n",
    "\n",
    "Demostración:\n",
    "\n",
    "$$\\begin{aligned}\n",
    "g'(z) &= \\frac{-1}{(1+e^{-z})^2} (-e^{-z}) \\\\\n",
    "      &= \\frac{e^{-z}}{(1+e^{-z})^2} \\\\\n",
    "      &= \\frac{1}{1+e^{-z}} \\frac{e^{-z}}{1+e^{-z}} \\\\\n",
    "      &= \\frac{1}{1+e^{-z}} \\left(1 - \\frac{1}{1+e^{-z}} \\right) \\\\\n",
    "      &= g(z)(1-g(z))\\end{aligned}$$"
   ]
  },
  {
   "cell_type": "markdown",
   "metadata": {
    "slideshow": {
     "slide_type": "slide"
    }
   },
   "source": [
    "## Interpretación gráfica"
   ]
  },
  {
   "cell_type": "code",
   "execution_count": 11,
   "metadata": {
    "collapsed": false
   },
   "outputs": [
    {
     "data": {
      "image/png": "[encoded data removed]",
      "text/plain": [
       "<matplotlib.figure.Figure at 0x7f322a385450>"
      ]
     },
     "metadata": {},
     "output_type": "display_data"
    }
   ],
   "source": [
    "from matplotlib import pyplot as plt\n",
    "import numpy as np\n",
    "\n",
    "def sigmoid(z):\n",
    "    return (1+np.exp(-z))**(-1.)\n",
    "\n",
    "z = np.linspace(-5,5,100)\n",
    "g = sigmoid(z)\n",
    "dgdz = g*(1-g)\n",
    "fig = plt.figure(figsize=(16,8))\n",
    "plt.plot(z, g, \"k\", label=\"g(z)\", lw=2)\n",
    "plt.plot(z, dgdz, \"r\", label=\"dg(z)/dz\", lw=2)\n",
    "plt.legend()\n",
    "plt.grid(\"on\")\n",
    "plt.show()"
   ]
  },
  {
   "cell_type": "markdown",
   "metadata": {
    "slideshow": {
     "slide_type": "slide"
    }
   },
   "source": [
    "## Aproximación Ingenieril\n",
    "\n",
    "¿Cómo podemos reutilizar lo que conocemos de regresión lineal?\n",
    "\n",
    "Si buscamos minimizar\n",
    "$$J(\\theta) = \\frac{1}{2} \\sum_{i=1}^{m} \\left( h_{\\theta}(x^{(i)}) - y^{(i)}\\right)^2$$\n",
    "Podemos calcular el gradiente y luego utilizar el método del máximo\n",
    "descenso para obtener $\\theta$.\n",
    "\n"
   ]
  },
  {
   "cell_type": "markdown",
   "metadata": {
    "slideshow": {
     "slide_type": "slide"
    }
   },
   "source": [
    "## Aproximación Ingenieril\n",
    "\n",
    "El\n",
    "cálculo del gradiente es directo:\n",
    "\n",
    "$$\\begin{aligned}\n",
    "\\frac{\\partial J(\\theta)}{\\partial \\theta_k}\n",
    "&= \\sum_{i=1}^{m} \\left( h_{\\theta}(x^{(i)}) - y^{(i)}\\right) \\frac{\\partial}{\\partial \\theta_k} h_{\\theta}(x^{(i)}) \\\\\n",
    "&= \\sum_{i=1}^{m} \\left( h_{\\theta}(x^{(i)}) - y^{(i)}\\right) \\frac{\\partial}{\\partial \\theta_k} g(\\theta^T x^{(i)}) \\\\\n",
    "&= \\sum_{i=1}^{m} \\left( h_{\\theta}(x^{(i)}) - y^{(i)}\\right) h_{\\theta}(x^{(i)}) \\left(1-h_{\\theta}(x^{(i)})\\right) \\frac{\\partial}{\\partial \\theta_k} (\\theta^T x^{(i)}) \\\\\n",
    "&= \\sum_{i=1}^{m} \\left( h_{\\theta}(x^{(i)}) - y^{(i)}\\right) h_{\\theta}(x^{(i)}) \\left(1-h_{\\theta}(x^{(i)})\\right) x^{(i)}_k\\end{aligned}$$\n"
   ]
  },
  {
   "cell_type": "markdown",
   "metadata": {
    "slideshow": {
     "slide_type": "slide"
    }
   },
   "source": [
    "## Aproximación Ingenieril\n",
    "\n",
    "¿Hay alguna forma de escribir todo esto de manera matricial? Recordemos\n",
    "que si las componentes eran\n",
    "\n",
    "$$\\begin{aligned}\n",
    "\\sum_{i=1}^{m} \\left( h_{\\theta}(x^{(i)}) - y^{(i)}\\right) x^{(i)}_k = \\sum_{i=1}^{m}  x^{(i)}_k \\left( h_{\\theta}(x^{(i)}) - y^{(i)}\\right)\\end{aligned}$$\n",
    "\n",
    "podíamos escribirlo vectorialmente como $$X^T (X\\theta - Y)$$\n",
    "\n"
   ]
  },
  {
   "cell_type": "markdown",
   "metadata": {
    "slideshow": {
     "slide_type": "slide"
    }
   },
   "source": [
    "## Aproximación Ingenieril\n",
    "\n",
    "Luego, para\n",
    "\n",
    "$$\\begin{aligned}\n",
    "\\frac{\\partial J(\\theta)}{\\partial \\theta_k}\n",
    "&= \\sum_{i=1}^{m} \\left( h_{\\theta}(x^{(i)}) - y^{(i)}\\right) h_{\\theta}(x^{(i)}) \\left(1-h_{\\theta}(x^{(i)})\\right) x^{(i)}_k \\\\\n",
    "&= \\sum_{i=1}^{m}  x^{(i)}_k \\left( h_{\\theta}(x^{(i)}) - y^{(i)}\\right) h_{\\theta}(x^{(i)}) \\left(1-h_{\\theta}(x^{(i)})\\right)\\end{aligned}$$\n",
    "\n",
    "podemos escribirlo vectorialmente como\n",
    "$$\\nabla_{\\theta} J(\\theta) = X^T  \\Big[ (g(X\\theta) - Y) \\odot g(X\\theta) \\odot (1-g(X\\theta)) \\Big]$$\n",
    "donde $\\odot$ es la multiplicación elemento a elemento (element-wise)."
   ]
  },
  {
   "cell_type": "markdown",
   "metadata": {
    "slideshow": {
     "slide_type": "slide"
    }
   },
   "source": [
    "## Aproximación Ingenieril\n",
    "\n",
    "Observación crucial:\n",
    "$$\\nabla_{\\theta} J(\\theta) = X^T  \\Big[ (g(X\\theta) - Y) \\odot g(X\\theta) \\odot (1-g(X\\theta)) \\Big]$$\n",
    "no permite construir un sistema lineal para $\\theta$, por lo cual sólo\n",
    "podemos resolver iterativamente.\n"
   ]
  },
  {
   "cell_type": "markdown",
   "metadata": {
    "slideshow": {
     "slide_type": "slide"
    }
   },
   "source": [
    "## Aproximación Ingenieril\n",
    "\n",
    "Por\n",
    "lo tanto tenemos el algoritmo\n",
    "\n",
    "$$\\begin{aligned}\n",
    "\\theta^{(n+1)} & = \\theta^{(n)} - \\alpha \\nabla_{\\theta} J(\\theta^{(n)}) \\\\\n",
    "\\nabla_{\\theta} J(\\theta) &= X^T  \\Big[ (g(X\\theta) - Y) \\odot g(X\\theta) \\odot (1-g(X\\theta)) \\Big]\\end{aligned}$$\n",
    "\n"
   ]
  },
  {
   "cell_type": "markdown",
   "metadata": {
    "slideshow": {
     "slide_type": "slide"
    }
   },
   "source": [
    "## Aproximación Ingenieril\n",
    "\n",
    "El código sería el siguiente:"
   ]
  },
  {
   "cell_type": "code",
   "execution_count": 12,
   "metadata": {
    "collapsed": true
   },
   "outputs": [],
   "source": [
    "import numpy as np\n",
    "\n",
    "def sigmoid(z):\n",
    "    return 1./(1+np.exp(-z))\n",
    "\n",
    "def norm2_error_logistic_regression(X, Y, theta0, tol=1E-6):\n",
    "    converged = False\n",
    "    alpha = 0.01/len(Y)\n",
    "    theta = theta0\n",
    "    while not converged:\n",
    "        H = sigmoid(np.dot(X, theta))\n",
    "        gradient = np.dot(X.T, (H-Y)*H*(1-H))\n",
    "        new_theta = theta - alpha * gradient\n",
    "        converged = np.linalg.norm(theta-new_theta) < tol * np.linalg.norm(theta) \n",
    "        theta = new_theta\n",
    "    return theta"
   ]
  },
  {
   "cell_type": "markdown",
   "metadata": {
    "slideshow": {
     "slide_type": "slide"
    }
   },
   "source": [
    "## Interpretación Probabilística\n",
    "\n",
    "¿Es la derivación anterior\n",
    "probabilísticamente correcta?\n",
    "\n",
    "Asumamos que la pertenencia a los grupos está dado por\n",
    "\n",
    "$$\\begin{aligned}\n",
    "\\mathbb{P}[y = 1| \\ x ; \\theta ] & = h_\\theta(x) \\\\\n",
    "\\mathbb{P}[y = 0| \\ x ; \\theta ] & = 1 - h_\\theta(x)\\end{aligned}$$\n",
    "\n",
    "Esto es, una distribución de Bernoulli con $p=h_\\theta(x)$.\\\n",
    "Las expresiones anteriores pueden escribirse de manera más compacta como\n",
    "\n",
    "$$\\begin{aligned}\n",
    "\\mathbb{P}[y | \\ x ; \\theta ] & = (h_\\theta(x))^y (1 - h_\\theta(x))^{(1-y)} \\\\\\end{aligned}$$\n"
   ]
  },
  {
   "cell_type": "markdown",
   "metadata": {
    "slideshow": {
     "slide_type": "slide"
    }
   },
   "source": [
    "## Interpretación Probabilística\n",
    "\n",
    "La función de verosimilitud $L(\\theta)$ nos\n",
    "permite entender que tan probable es encontrar los datos observados,\n",
    "para una elección del parámetro $\\theta$.\n",
    "\n",
    "$$\\begin{aligned}\n",
    "L(\\theta) \n",
    "&= \\prod_{i=1}^{m} \\mathbb{P}[y^{(i)}| x^{(i)}; \\theta ] \\\\\n",
    "&= \\prod_{i=1}^{m} \\Big(h_{\\theta}(x^{(i)})\\Big)^{y^{(i)}} \\Big(1 - h_\\theta(x^{(i)})\\Big)^{(1-y^{(i)})}\\end{aligned}$$\n",
    "\n",
    "Nos gustaría encontrar el parámetro $\\theta$ que más probablemente haya\n",
    "generado los datos observados, es decir, el parámetro $\\theta$ que\n",
    "maximiza la función de verosimilitud.\n"
   ]
  },
  {
   "cell_type": "markdown",
   "metadata": {
    "slideshow": {
     "slide_type": "slide"
    }
   },
   "source": [
    "## Interpretación Probabilística\n",
    "\n",
    "Calculamos la log-verosimilitud:\n",
    "\n",
    "$$\\begin{aligned}\n",
    "l(\\theta) \n",
    "&= \\log L(\\theta) \\\\\n",
    "&= \\log \\prod_{i=1}^{m} (h_\\theta(x^{(i)}))^{y^{(i)}} (1 - h_\\theta(x^{(i)}))^{(1-y^{(i)})} \\\\\n",
    "&= \\sum_{i=1}^{m} y^{(i)}\\log (h_\\theta(x^{(i)})) + (1-y^{(i)}) \\log (1 - h_\\theta(x^{(i)}))\\end{aligned}$$\n",
    "\n",
    "No existe una fórmula cerrada que nos permita obtener el máximo de la\n",
    "log-verosimitud. Pero podemos utilizar nuevamente el método del\n",
    "gradiente máximo.\n"
   ]
  },
  {
   "cell_type": "markdown",
   "metadata": {
    "slideshow": {
     "slide_type": "slide"
    }
   },
   "source": [
    "## Interpretación Probabilística\n",
    "\n",
    "\n",
    "Recordemos que si\n",
    "\n",
    "$$\\begin{aligned}\n",
    "g(z) = \\frac{1}{1+e^{-z}}\\end{aligned}$$\n",
    "\n",
    "Entonces\n",
    "\n",
    "$$\\begin{aligned}\n",
    "g'(z) &= g(z)(1-g(z))\\end{aligned}$$\n",
    "\n",
    "y luego tenemos que\n",
    "\n",
    "$$\\begin{aligned}\n",
    "\\frac{\\partial}{\\partial \\theta_k} h_\\theta(x) &= h_\\theta(x) (1-h_\\theta(x)) x_k\\end{aligned}$$\n"
   ]
  },
  {
   "cell_type": "markdown",
   "metadata": {
    "slideshow": {
     "slide_type": "slide"
    }
   },
   "source": [
    "## Interpretación Probabilística\n",
    "\n",
    "$$\\begin{aligned}\n",
    "\\frac{\\partial}{\\partial \\theta_k} l(\\theta) &=\n",
    "\\frac{\\partial}{\\partial \\theta_k}  \\sum_{i=1}^{m} y^{(i)}\\log (h_\\theta(x^{(i)})) + (1-y^{(i)}) \\log (1 - h_\\theta(x^{(i)})) \\\\\n",
    "&= \\sum_{i=1}^{m} y^{(i)}\\frac{\\partial}{\\partial \\theta_k}   \\log (h_\\theta(x^{(i)})) + (1-y^{(i)}) \\frac{\\partial}{\\partial \\theta_k}  \\log (1 - h_\\theta(x^{(i)})) \\\\\n",
    "&= \\sum_{i=1}^{m} y^{(i)}\\frac{1}{h_\\theta(x^{(i)})}\\frac{\\partial h_\\theta(x^{(i)})}{\\partial \\theta_k} \n",
    "+ (1-y^{(i)}) \\frac{1}{1 - h_\\theta(x^{(i)})} \\frac{\\partial (1-h_\\theta(x^{(i)}))}{\\partial \\theta_k} \\\\\n",
    "&= \\sum_{i=1}^{m} y^{(i)}(1-h_\\theta(x^{(i)})) x^{(i)}- (1-y^{(i)}) h_\\theta(x^{(i)}) x^{(i)}\\\\\n",
    "&= \\sum_{i=1}^{m} y^{(i)}x^{(i)}- y^{(i)}h_\\theta(x^{(i)}) x^{(i)}- h_\\theta(x^{(i)}) x^{(i)}+ y^{(i)}h_\\theta(x^{(i)}) x^{(i)}\\\\\n",
    "&= \\sum_{i=1}^{m} (y^{(i)}-h_\\theta(x^{(i)})) x^{(i)}\\end{aligned}$$\n"
   ]
  },
  {
   "cell_type": "markdown",
   "metadata": {
    "slideshow": {
     "slide_type": "slide"
    }
   },
   "source": [
    "## Interpretación Probabilística\n",
    "\n",
    "Es decir, para maximizar la log-verosimilitud\n",
    "obtenemos igual que para la regresión lineal:\n",
    "\n",
    "$$\\begin{aligned}\n",
    "\\theta^{(n+1)} & = \\theta^{(n)} - \\alpha \\nabla_{\\theta} l(\\theta^{(n)}) \\\\\n",
    "\\frac{\\partial l(\\theta)}{\\partial \\theta_k}\n",
    "&= \\sum_{i=1}^{m} \\left( h_{\\theta}(x^{(i)}) - y^{(i)}\\right) x^{(i)}_k\\end{aligned}$$\n",
    "\n",
    "Aunque, en el caso de regresión logística, se tiene\n",
    "$h_\\theta(x)=1/(1+e^{-x^T\\theta})$\n",
    "\n",
    "OBS: La elección de $\\alpha$ es crucial para la convergencia. En\n",
    "particular, $0.01/m$ funciona bien.\n",
    "\n"
   ]
  },
  {
   "cell_type": "markdown",
   "metadata": {
    "slideshow": {
     "slide_type": "slide"
    }
   },
   "source": [
    "## Recuerdo de la aproximación Ingenieril\n",
    "\n",
    "Por\n",
    "lo tanto tenemos el algoritmo\n",
    "\n",
    "$$\\begin{aligned}\n",
    "\\theta^{(n+1)} & = \\theta^{(n)} - \\alpha \\nabla_{\\theta} J(\\theta^{(n)}) \\\\\n",
    "\\nabla_{\\theta} J(\\theta) &= X^T  \\Big[ (g(X\\theta) - Y) \\odot g(X\\theta) \\odot (1-g(X\\theta)) \\Big]\\end{aligned}$$\n",
    "\n"
   ]
  },
  {
   "cell_type": "markdown",
   "metadata": {
    "slideshow": {
     "slide_type": "slide"
    }
   },
   "source": [
    "## Interpretación Probabilística\n",
    "\n",
    "Es decir, para maximizar la log-verosimilitud\n",
    "obtenemos igual que para la regresión lineal:\n",
    "\n",
    "$$\\begin{aligned}\n",
    "\\theta^{(n+1)} & = \\theta^{(n)} - \\alpha \\nabla_{\\theta} l(\\theta^{(n)}) \\\\\n",
    "\\frac{\\partial l(\\theta)}{\\partial \\theta_k}\n",
    "&= \\sum_{i=1}^{m} \\left( h_{\\theta}(x^{(i)}) - y^{(i)}\\right) x^{(i)}_k\\end{aligned}$$\n",
    "\n",
    "Aunque, en el caso de regresión logística, se tiene\n",
    "$h_\\theta(x)=1/(1+e^{-x^T\\theta})$\n",
    "\n",
    "OBS: La elección de $\\alpha$ es crucial para la convergencia. En\n",
    "particular, $0.01/m$ funciona bien.\n",
    "\n"
   ]
  },
  {
   "cell_type": "code",
   "execution_count": 13,
   "metadata": {
    "collapsed": true,
    "slideshow": {
     "slide_type": "slide"
    }
   },
   "outputs": [],
   "source": [
    "import numpy as np\n",
    "\n",
    "def likelihood_logistic_regression(X, Y, theta0, tol=1E-6):\n",
    "    converged = False\n",
    "    alpha = 0.01/len(Y)\n",
    "    theta = theta0\n",
    "    while not converged:\n",
    "        H = sigmoid(np.dot(X, theta))\n",
    "        gradient = np.dot(X.T, H-Y)\n",
    "        new_theta = theta - alpha * gradient\n",
    "        converged = np.linalg.norm(theta-new_theta) < tol * np.linalg.norm(theta) \n",
    "        theta = new_theta\n",
    "    return theta\n",
    "\n",
    "def sigmoid(z):\n",
    "    return 1./(1+np.exp(-z))"
   ]
  },
  {
   "cell_type": "markdown",
   "metadata": {
    "slideshow": {
     "slide_type": "slide"
    }
   },
   "source": [
    "## Interpretación del resultado\n",
    "\n",
    "* ¿Qué significa el parámetro obtenido $\\theta$?\n",
    "* ¿Cómo relacionamos la pertenencia a una clase (discreto) con la hipótesis $h_{\\theta}(x)$ (continuo)."
   ]
  },
  {
   "cell_type": "markdown",
   "metadata": {
    "slideshow": {
     "slide_type": "slide"
    }
   },
   "source": [
    "## 1. Aplicación a Datos del Challenger\n",
    "\n",
    "Apliquemos lo anterior a los datos que tenemos del Challenger."
   ]
  },
  {
   "cell_type": "code",
   "execution_count": 14,
   "metadata": {
    "collapsed": false
   },
   "outputs": [
    {
     "name": "stdout",
     "output_type": "stream",
     "text": [
      "theta_0 [ 0.70833333  0.03362637]\n",
      "theta_J [-4.47303889  0.26849859]\n",
      "theta_l [-5.2760258   0.30270258]\n"
     ]
    }
   ],
   "source": [
    "# Plot of data\n",
    "data = np.loadtxt(\"data/Challenger.txt\", skiprows=1)\n",
    "x = (data[:,0]-32.)/1.8\n",
    "X = np.array([np.ones(x.shape[0]), x]).T\n",
    "y = np.array(data[:,1]==0,int)\n",
    "theta_0 = y.mean() / X.mean(axis=0)\n",
    "print \"theta_0\", theta_0\n",
    "theta_J = norm2_error_logistic_regression(X, y, theta_0)\n",
    "print \"theta_J\", theta_J\n",
    "theta_l = likelihood_logistic_regression(X, y, theta_0)\n",
    "print \"theta_l\",theta_l"
   ]
  },
  {
   "cell_type": "markdown",
   "metadata": {
    "slideshow": {
     "slide_type": "slide"
    }
   },
   "source": [
    "## 1. Aplicación a Datos del Challenger\n",
    "Visualización de resultados"
   ]
  },
  {
   "cell_type": "code",
   "execution_count": 15,
   "metadata": {
    "collapsed": false,
    "slideshow": {
     "slide_type": "-"
    }
   },
   "outputs": [
    {
     "data": {
      "image/png": "[encoded data removed]",
      "text/plain": [
       "<matplotlib.figure.Figure at 0x7f322a2ea510>"
      ]
     },
     "metadata": {},
     "output_type": "display_data"
    }
   ],
   "source": [
    "# Predictions\n",
    "y_pred_J = sigmoid(np.dot(X, theta_J))\n",
    "y_pred_l = sigmoid(np.dot(X, theta_l))\n",
    "# Plot of data\n",
    "plt.figure(figsize=(16,8))\n",
    "plt.plot(x[y==0], y[y==0], 'bo', label=\"Falla\", ms=8)\n",
    "plt.plot(x[y>0], y[y>0], 'rs', label=\"Exito\", ms=8)\n",
    "plt.plot(x, y_pred_J, label=\"Norm 2 error prediction\")\n",
    "plt.plot(x, y_pred_l, label=\"Likelihood prediction\")\n",
    "plt.ylim([-0.1, 1.1])\n",
    "plt.legend(loc=0, numpoints=1)\n",
    "plt.title(\"Exito o Falla en lanzamiento de Challenger\")\n",
    "plt.xlabel(r\"T [${}^o C$]\")\n",
    "plt.ylabel(r\"$y$\")\n",
    "plt.show()"
   ]
  },
  {
   "cell_type": "markdown",
   "metadata": {
    "slideshow": {
     "slide_type": "slide"
    }
   },
   "source": [
    "## 2. Aplicación al Iris Dataset\n",
    "\n",
    "Hay\n",
    "definidas $3$ clases, pero nosotros sólo podemos clasificar en $2$ clases. ¿Qué hacer?"
   ]
  },
  {
   "cell_type": "code",
   "execution_count": 20,
   "metadata": {
    "collapsed": false
   },
   "outputs": [
    {
     "name": "stdout",
     "output_type": "stream",
     "text": [
      "['setosa' 'versicolor' 'virginica']\n",
      "[ 5.1  3.5  1.4  0.2] 0\n",
      "[ 4.9  3.   1.4  0.2] 0\n",
      "[ 4.7  3.2  1.3  0.2] 0\n",
      "[ 4.6  3.1  1.5  0.2] 0\n",
      "[ 5.   3.6  1.4  0.2] 0\n",
      "[ 5.4  3.9  1.7  0.4] 0\n",
      "[ 4.6  3.4  1.4  0.3] 0\n",
      "[ 5.   3.4  1.5  0.2] 0\n",
      "[ 4.4  2.9  1.4  0.2] 0\n",
      "[ 4.9  3.1  1.5  0.1] 0\n",
      "[ 5.4  3.7  1.5  0.2] 0\n",
      "[ 4.8  3.4  1.6  0.2] 0\n",
      "[ 4.8  3.   1.4  0.1] 0\n",
      "[ 4.3  3.   1.1  0.1] 0\n",
      "[ 5.8  4.   1.2  0.2] 0\n",
      "[ 5.7  4.4  1.5  0.4] 0\n",
      "[ 5.4  3.9  1.3  0.4] 0\n",
      "[ 5.1  3.5  1.4  0.3] 0\n",
      "[ 5.7  3.8  1.7  0.3] 0\n",
      "[ 5.1  3.8  1.5  0.3] 0\n",
      "[ 5.4  3.4  1.7  0.2] 0\n",
      "[ 5.1  3.7  1.5  0.4] 0\n",
      "[ 4.6  3.6  1.   0.2] 0\n",
      "[ 5.1  3.3  1.7  0.5] 0\n",
      "[ 4.8  3.4  1.9  0.2] 0\n",
      "[ 5.   3.   1.6  0.2] 0\n",
      "[ 5.   3.4  1.6  0.4] 0\n",
      "[ 5.2  3.5  1.5  0.2] 0\n",
      "[ 5.2  3.4  1.4  0.2] 0\n",
      "[ 4.7  3.2  1.6  0.2] 0\n",
      "[ 4.8  3.1  1.6  0.2] 0\n",
      "[ 5.4  3.4  1.5  0.4] 0\n",
      "[ 5.2  4.1  1.5  0.1] 0\n",
      "[ 5.5  4.2  1.4  0.2] 0\n",
      "[ 4.9  3.1  1.5  0.1] 0\n",
      "[ 5.   3.2  1.2  0.2] 0\n",
      "[ 5.5  3.5  1.3  0.2] 0\n",
      "[ 4.9  3.1  1.5  0.1] 0\n",
      "[ 4.4  3.   1.3  0.2] 0\n",
      "[ 5.1  3.4  1.5  0.2] 0\n",
      "[ 5.   3.5  1.3  0.3] 0\n",
      "[ 4.5  2.3  1.3  0.3] 0\n",
      "[ 4.4  3.2  1.3  0.2] 0\n",
      "[ 5.   3.5  1.6  0.6] 0\n",
      "[ 5.1  3.8  1.9  0.4] 0\n",
      "[ 4.8  3.   1.4  0.3] 0\n",
      "[ 5.1  3.8  1.6  0.2] 0\n",
      "[ 4.6  3.2  1.4  0.2] 0\n",
      "[ 5.3  3.7  1.5  0.2] 0\n",
      "[ 5.   3.3  1.4  0.2] 0\n",
      "[ 7.   3.2  4.7  1.4] 1\n",
      "[ 6.4  3.2  4.5  1.5] 1\n",
      "[ 6.9  3.1  4.9  1.5] 1\n",
      "[ 5.5  2.3  4.   1.3] 1\n",
      "[ 6.5  2.8  4.6  1.5] 1\n",
      "[ 5.7  2.8  4.5  1.3] 1\n",
      "[ 6.3  3.3  4.7  1.6] 1\n",
      "[ 4.9  2.4  3.3  1. ] 1\n",
      "[ 6.6  2.9  4.6  1.3] 1\n",
      "[ 5.2  2.7  3.9  1.4] 1\n",
      "[ 5.   2.   3.5  1. ] 1\n",
      "[ 5.9  3.   4.2  1.5] 1\n",
      "[ 6.   2.2  4.   1. ] 1\n",
      "[ 6.1  2.9  4.7  1.4] 1\n",
      "[ 5.6  2.9  3.6  1.3] 1\n",
      "[ 6.7  3.1  4.4  1.4] 1\n",
      "[ 5.6  3.   4.5  1.5] 1\n",
      "[ 5.8  2.7  4.1  1. ] 1\n",
      "[ 6.2  2.2  4.5  1.5] 1\n",
      "[ 5.6  2.5  3.9  1.1] 1\n",
      "[ 5.9  3.2  4.8  1.8] 1\n",
      "[ 6.1  2.8  4.   1.3] 1\n",
      "[ 6.3  2.5  4.9  1.5] 1\n",
      "[ 6.1  2.8  4.7  1.2] 1\n",
      "[ 6.4  2.9  4.3  1.3] 1\n",
      "[ 6.6  3.   4.4  1.4] 1\n",
      "[ 6.8  2.8  4.8  1.4] 1\n",
      "[ 6.7  3.   5.   1.7] 1\n",
      "[ 6.   2.9  4.5  1.5] 1\n",
      "[ 5.7  2.6  3.5  1. ] 1\n",
      "[ 5.5  2.4  3.8  1.1] 1\n",
      "[ 5.5  2.4  3.7  1. ] 1\n",
      "[ 5.8  2.7  3.9  1.2] 1\n",
      "[ 6.   2.7  5.1  1.6] 1\n",
      "[ 5.4  3.   4.5  1.5] 1\n",
      "[ 6.   3.4  4.5  1.6] 1\n",
      "[ 6.7  3.1  4.7  1.5] 1\n",
      "[ 6.3  2.3  4.4  1.3] 1\n",
      "[ 5.6  3.   4.1  1.3] 1\n",
      "[ 5.5  2.5  4.   1.3] 1\n",
      "[ 5.5  2.6  4.4  1.2] 1\n",
      "[ 6.1  3.   4.6  1.4] 1\n",
      "[ 5.8  2.6  4.   1.2] 1\n",
      "[ 5.   2.3  3.3  1. ] 1\n",
      "[ 5.6  2.7  4.2  1.3] 1\n",
      "[ 5.7  3.   4.2  1.2] 1\n",
      "[ 5.7  2.9  4.2  1.3] 1\n",
      "[ 6.2  2.9  4.3  1.3] 1\n",
      "[ 5.1  2.5  3.   1.1] 1\n",
      "[ 5.7  2.8  4.1  1.3] 1\n",
      "[ 6.3  3.3  6.   2.5] 2\n",
      "[ 5.8  2.7  5.1  1.9] 2\n",
      "[ 7.1  3.   5.9  2.1] 2\n",
      "[ 6.3  2.9  5.6  1.8] 2\n",
      "[ 6.5  3.   5.8  2.2] 2\n",
      "[ 7.6  3.   6.6  2.1] 2\n",
      "[ 4.9  2.5  4.5  1.7] 2\n",
      "[ 7.3  2.9  6.3  1.8] 2\n",
      "[ 6.7  2.5  5.8  1.8] 2\n",
      "[ 7.2  3.6  6.1  2.5] 2\n",
      "[ 6.5  3.2  5.1  2. ] 2\n",
      "[ 6.4  2.7  5.3  1.9] 2\n",
      "[ 6.8  3.   5.5  2.1] 2\n",
      "[ 5.7  2.5  5.   2. ] 2\n",
      "[ 5.8  2.8  5.1  2.4] 2\n",
      "[ 6.4  3.2  5.3  2.3] 2\n",
      "[ 6.5  3.   5.5  1.8] 2\n",
      "[ 7.7  3.8  6.7  2.2] 2\n",
      "[ 7.7  2.6  6.9  2.3] 2\n",
      "[ 6.   2.2  5.   1.5] 2\n",
      "[ 6.9  3.2  5.7  2.3] 2\n",
      "[ 5.6  2.8  4.9  2. ] 2\n",
      "[ 7.7  2.8  6.7  2. ] 2\n",
      "[ 6.3  2.7  4.9  1.8] 2\n",
      "[ 6.7  3.3  5.7  2.1] 2\n",
      "[ 7.2  3.2  6.   1.8] 2\n",
      "[ 6.2  2.8  4.8  1.8] 2\n",
      "[ 6.1  3.   4.9  1.8] 2\n",
      "[ 6.4  2.8  5.6  2.1] 2\n",
      "[ 7.2  3.   5.8  1.6] 2\n",
      "[ 7.4  2.8  6.1  1.9] 2\n",
      "[ 7.9  3.8  6.4  2. ] 2\n",
      "[ 6.4  2.8  5.6  2.2] 2\n",
      "[ 6.3  2.8  5.1  1.5] 2\n",
      "[ 6.1  2.6  5.6  1.4] 2\n",
      "[ 7.7  3.   6.1  2.3] 2\n",
      "[ 6.3  3.4  5.6  2.4] 2\n",
      "[ 6.4  3.1  5.5  1.8] 2\n",
      "[ 6.   3.   4.8  1.8] 2\n",
      "[ 6.9  3.1  5.4  2.1] 2\n",
      "[ 6.7  3.1  5.6  2.4] 2\n",
      "[ 6.9  3.1  5.1  2.3] 2\n",
      "[ 5.8  2.7  5.1  1.9] 2\n",
      "[ 6.8  3.2  5.9  2.3] 2\n",
      "[ 6.7  3.3  5.7  2.5] 2\n",
      "[ 6.7  3.   5.2  2.3] 2\n",
      "[ 6.3  2.5  5.   1.9] 2\n",
      "[ 6.5  3.   5.2  2. ] 2\n",
      "[ 6.2  3.4  5.4  2.3] 2\n",
      "[ 5.9  3.   5.1  1.8] 2\n"
     ]
    }
   ],
   "source": [
    "import numpy as np\n",
    "from sklearn import datasets\n",
    "\n",
    "# Loading the data\n",
    "iris = datasets.load_iris()\n",
    "X = iris.data\n",
    "Y = iris.target\n",
    "print iris.target_names\n",
    "\n",
    "# Print data and labels\n",
    "for x, y in zip(X,Y):\n",
    "    print x, y"
   ]
  },
  {
   "cell_type": "markdown",
   "metadata": {
    "slideshow": {
     "slide_type": "slide"
    }
   },
   "source": [
    "## 2. Aplicación al Iris Dataset\n",
    "\n",
    "Podemos ***definir*** 2 clases: Iris Setosa y no Iris Setosa.\n",
    "¿Que label le pondremos a cada clase?"
   ]
  },
  {
   "cell_type": "code",
   "execution_count": 21,
   "metadata": {
    "collapsed": false
   },
   "outputs": [
    {
     "name": "stdout",
     "output_type": "stream",
     "text": [
      "['setosa' 'versicolor' 'virginica']\n",
      "[ 5.1  3.5  1.4  0.2] 1\n",
      "[ 4.9  3.   1.4  0.2] 1\n",
      "[ 4.7  3.2  1.3  0.2] 1\n",
      "[ 4.6  3.1  1.5  0.2] 1\n",
      "[ 5.   3.6  1.4  0.2] 1\n",
      "[ 5.4  3.9  1.7  0.4] 1\n",
      "[ 4.6  3.4  1.4  0.3] 1\n",
      "[ 5.   3.4  1.5  0.2] 1\n",
      "[ 4.4  2.9  1.4  0.2] 1\n",
      "[ 4.9  3.1  1.5  0.1] 1\n",
      "[ 5.4  3.7  1.5  0.2] 1\n",
      "[ 4.8  3.4  1.6  0.2] 1\n",
      "[ 4.8  3.   1.4  0.1] 1\n",
      "[ 4.3  3.   1.1  0.1] 1\n",
      "[ 5.8  4.   1.2  0.2] 1\n",
      "[ 5.7  4.4  1.5  0.4] 1\n",
      "[ 5.4  3.9  1.3  0.4] 1\n",
      "[ 5.1  3.5  1.4  0.3] 1\n",
      "[ 5.7  3.8  1.7  0.3] 1\n",
      "[ 5.1  3.8  1.5  0.3] 1\n",
      "[ 5.4  3.4  1.7  0.2] 1\n",
      "[ 5.1  3.7  1.5  0.4] 1\n",
      "[ 4.6  3.6  1.   0.2] 1\n",
      "[ 5.1  3.3  1.7  0.5] 1\n",
      "[ 4.8  3.4  1.9  0.2] 1\n",
      "[ 5.   3.   1.6  0.2] 1\n",
      "[ 5.   3.4  1.6  0.4] 1\n",
      "[ 5.2  3.5  1.5  0.2] 1\n",
      "[ 5.2  3.4  1.4  0.2] 1\n",
      "[ 4.7  3.2  1.6  0.2] 1\n",
      "[ 4.8  3.1  1.6  0.2] 1\n",
      "[ 5.4  3.4  1.5  0.4] 1\n",
      "[ 5.2  4.1  1.5  0.1] 1\n",
      "[ 5.5  4.2  1.4  0.2] 1\n",
      "[ 4.9  3.1  1.5  0.1] 1\n",
      "[ 5.   3.2  1.2  0.2] 1\n",
      "[ 5.5  3.5  1.3  0.2] 1\n",
      "[ 4.9  3.1  1.5  0.1] 1\n",
      "[ 4.4  3.   1.3  0.2] 1\n",
      "[ 5.1  3.4  1.5  0.2] 1\n",
      "[ 5.   3.5  1.3  0.3] 1\n",
      "[ 4.5  2.3  1.3  0.3] 1\n",
      "[ 4.4  3.2  1.3  0.2] 1\n",
      "[ 5.   3.5  1.6  0.6] 1\n",
      "[ 5.1  3.8  1.9  0.4] 1\n",
      "[ 4.8  3.   1.4  0.3] 1\n",
      "[ 5.1  3.8  1.6  0.2] 1\n",
      "[ 4.6  3.2  1.4  0.2] 1\n",
      "[ 5.3  3.7  1.5  0.2] 1\n",
      "[ 5.   3.3  1.4  0.2] 1\n",
      "[ 7.   3.2  4.7  1.4] 0\n",
      "[ 6.4  3.2  4.5  1.5] 0\n",
      "[ 6.9  3.1  4.9  1.5] 0\n",
      "[ 5.5  2.3  4.   1.3] 0\n",
      "[ 6.5  2.8  4.6  1.5] 0\n",
      "[ 5.7  2.8  4.5  1.3] 0\n",
      "[ 6.3  3.3  4.7  1.6] 0\n",
      "[ 4.9  2.4  3.3  1. ] 0\n",
      "[ 6.6  2.9  4.6  1.3] 0\n",
      "[ 5.2  2.7  3.9  1.4] 0\n",
      "[ 5.   2.   3.5  1. ] 0\n",
      "[ 5.9  3.   4.2  1.5] 0\n",
      "[ 6.   2.2  4.   1. ] 0\n",
      "[ 6.1  2.9  4.7  1.4] 0\n",
      "[ 5.6  2.9  3.6  1.3] 0\n",
      "[ 6.7  3.1  4.4  1.4] 0\n",
      "[ 5.6  3.   4.5  1.5] 0\n",
      "[ 5.8  2.7  4.1  1. ] 0\n",
      "[ 6.2  2.2  4.5  1.5] 0\n",
      "[ 5.6  2.5  3.9  1.1] 0\n",
      "[ 5.9  3.2  4.8  1.8] 0\n",
      "[ 6.1  2.8  4.   1.3] 0\n",
      "[ 6.3  2.5  4.9  1.5] 0\n",
      "[ 6.1  2.8  4.7  1.2] 0\n",
      "[ 6.4  2.9  4.3  1.3] 0\n",
      "[ 6.6  3.   4.4  1.4] 0\n",
      "[ 6.8  2.8  4.8  1.4] 0\n",
      "[ 6.7  3.   5.   1.7] 0\n",
      "[ 6.   2.9  4.5  1.5] 0\n",
      "[ 5.7  2.6  3.5  1. ] 0\n",
      "[ 5.5  2.4  3.8  1.1] 0\n",
      "[ 5.5  2.4  3.7  1. ] 0\n",
      "[ 5.8  2.7  3.9  1.2] 0\n",
      "[ 6.   2.7  5.1  1.6] 0\n",
      "[ 5.4  3.   4.5  1.5] 0\n",
      "[ 6.   3.4  4.5  1.6] 0\n",
      "[ 6.7  3.1  4.7  1.5] 0\n",
      "[ 6.3  2.3  4.4  1.3] 0\n",
      "[ 5.6  3.   4.1  1.3] 0\n",
      "[ 5.5  2.5  4.   1.3] 0\n",
      "[ 5.5  2.6  4.4  1.2] 0\n",
      "[ 6.1  3.   4.6  1.4] 0\n",
      "[ 5.8  2.6  4.   1.2] 0\n",
      "[ 5.   2.3  3.3  1. ] 0\n",
      "[ 5.6  2.7  4.2  1.3] 0\n",
      "[ 5.7  3.   4.2  1.2] 0\n",
      "[ 5.7  2.9  4.2  1.3] 0\n",
      "[ 6.2  2.9  4.3  1.3] 0\n",
      "[ 5.1  2.5  3.   1.1] 0\n",
      "[ 5.7  2.8  4.1  1.3] 0\n",
      "[ 6.3  3.3  6.   2.5] 0\n",
      "[ 5.8  2.7  5.1  1.9] 0\n",
      "[ 7.1  3.   5.9  2.1] 0\n",
      "[ 6.3  2.9  5.6  1.8] 0\n",
      "[ 6.5  3.   5.8  2.2] 0\n",
      "[ 7.6  3.   6.6  2.1] 0\n",
      "[ 4.9  2.5  4.5  1.7] 0\n",
      "[ 7.3  2.9  6.3  1.8] 0\n",
      "[ 6.7  2.5  5.8  1.8] 0\n",
      "[ 7.2  3.6  6.1  2.5] 0\n",
      "[ 6.5  3.2  5.1  2. ] 0\n",
      "[ 6.4  2.7  5.3  1.9] 0\n",
      "[ 6.8  3.   5.5  2.1] 0\n",
      "[ 5.7  2.5  5.   2. ] 0\n",
      "[ 5.8  2.8  5.1  2.4] 0\n",
      "[ 6.4  3.2  5.3  2.3] 0\n",
      "[ 6.5  3.   5.5  1.8] 0\n",
      "[ 7.7  3.8  6.7  2.2] 0\n",
      "[ 7.7  2.6  6.9  2.3] 0\n",
      "[ 6.   2.2  5.   1.5] 0\n",
      "[ 6.9  3.2  5.7  2.3] 0\n",
      "[ 5.6  2.8  4.9  2. ] 0\n",
      "[ 7.7  2.8  6.7  2. ] 0\n",
      "[ 6.3  2.7  4.9  1.8] 0\n",
      "[ 6.7  3.3  5.7  2.1] 0\n",
      "[ 7.2  3.2  6.   1.8] 0\n",
      "[ 6.2  2.8  4.8  1.8] 0\n",
      "[ 6.1  3.   4.9  1.8] 0\n",
      "[ 6.4  2.8  5.6  2.1] 0\n",
      "[ 7.2  3.   5.8  1.6] 0\n",
      "[ 7.4  2.8  6.1  1.9] 0\n",
      "[ 7.9  3.8  6.4  2. ] 0\n",
      "[ 6.4  2.8  5.6  2.2] 0\n",
      "[ 6.3  2.8  5.1  1.5] 0\n",
      "[ 6.1  2.6  5.6  1.4] 0\n",
      "[ 7.7  3.   6.1  2.3] 0\n",
      "[ 6.3  3.4  5.6  2.4] 0\n",
      "[ 6.4  3.1  5.5  1.8] 0\n",
      "[ 6.   3.   4.8  1.8] 0\n",
      "[ 6.9  3.1  5.4  2.1] 0\n",
      "[ 6.7  3.1  5.6  2.4] 0\n",
      "[ 6.9  3.1  5.1  2.3] 0\n",
      "[ 5.8  2.7  5.1  1.9] 0\n",
      "[ 6.8  3.2  5.9  2.3] 0\n",
      "[ 6.7  3.3  5.7  2.5] 0\n",
      "[ 6.7  3.   5.2  2.3] 0\n",
      "[ 6.3  2.5  5.   1.9] 0\n",
      "[ 6.5  3.   5.2  2. ] 0\n",
      "[ 6.2  3.4  5.4  2.3] 0\n",
      "[ 5.9  3.   5.1  1.8] 0\n"
     ]
    }
   ],
   "source": [
    "import numpy as np\n",
    "from sklearn import datasets\n",
    "\n",
    "# Loading the data\n",
    "iris = datasets.load_iris()\n",
    "names = iris.target_names\n",
    "print names\n",
    "X = iris.data\n",
    "Y = np.array(iris.target==0, int)\n",
    "\n",
    "# Print data and labels\n",
    "for x, y in zip(X,Y):\n",
    "    print x, y"
   ]
  },
  {
   "cell_type": "markdown",
   "metadata": {
    "slideshow": {
     "slide_type": "slide"
    }
   },
   "source": [
    "## 2.  Aplicación al Iris Dataset\n",
    "\n",
    "Para aplicar el algoritmo, utilizando el algoritmo [Logistic Regression](http://scikit-learn.org/stable/modules/linear_model.html#logistic-regression) de la librería sklearn, requerimos un código como el siguiente:"
   ]
  },
  {
   "cell_type": "code",
   "execution_count": 27,
   "metadata": {
    "collapsed": false
   },
   "outputs": [
    {
     "name": "stdout",
     "output_type": "stream",
     "text": [
      "[ 0.26560617] [[ 0.41498833  1.46129739 -2.26214118 -1.0290951 ]]\n"
     ]
    }
   ],
   "source": [
    "import numpy as np\n",
    "from sklearn import datasets\n",
    "from sklearn.linear_model import LogisticRegression\n",
    "\n",
    "# Loading the data\n",
    "iris = datasets.load_iris()\n",
    "names = iris.target_names\n",
    "X = iris.data\n",
    "Y = np.array(iris.target==0, int)\n",
    "\n",
    "# Fitting the model\n",
    "Logit = LogisticRegression()\n",
    "Logit.fit(X,Y)\n",
    "\n",
    "# Obtain the coefficients\n",
    "print Logit.intercept_, Logit.coef_ \n",
    "\n",
    "# Predicting values\n",
    "Y_pred = Logit.predict(X)\n",
    "#x = X.mean(axis=0)\n",
    "#Y_pred_mean = Logit.predict(x)\n",
    "#print x, Y_pred_mean"
   ]
  },
  {
   "cell_type": "markdown",
   "metadata": {
    "slideshow": {
     "slide_type": "slide"
    }
   },
   "source": [
    "## 2.  Aplicación al Iris Dataset\n",
    "\n",
    "Podemos visualizar el resultado con una matriz de confusión."
   ]
  },
  {
   "cell_type": "code",
   "execution_count": 28,
   "metadata": {
    "collapsed": false
   },
   "outputs": [
    {
     "name": "stdout",
     "output_type": "stream",
     "text": [
      "[[100   0]\n",
      " [  0  50]]\n"
     ]
    },
    {
     "name": "stderr",
     "output_type": "stream",
     "text": [
      "/usr/local/lib/python2.7/dist-packages/numpy/core/fromnumeric.py:2507: VisibleDeprecationWarning: `rank` is deprecated; use the `ndim` attribute or function instead. To find the rank of a matrix see `numpy.linalg.matrix_rank`.\n",
      "  VisibleDeprecationWarning)\n"
     ]
    }
   ],
   "source": [
    "from sklearn.metrics import confusion_matrix\n",
    "\n",
    "cm = confusion_matrix(Y, Y_pred)\n",
    "\n",
    "print cm"
   ]
  },
  {
   "cell_type": "markdown",
   "metadata": {
    "slideshow": {
     "slide_type": "fragment"
    }
   },
   "source": [
    "¡Nuestra clasificación es perfecta!"
   ]
  },
  {
   "cell_type": "markdown",
   "metadata": {
    "slideshow": {
     "slide_type": "slide"
    }
   },
   "source": [
    "## Referencias\n",
    "\n",
    "* Jake VanderPlas, ESAC Data Analysis and Statistics Workshop 2014, https://github.com/jakevdp/ESAC-stats-2014\n",
    "* Andrew Ng, Machine Learning CS144, Stanford University."
   ]
  }
 ],
 "metadata": {
  "celltoolbar": "Slideshow",
  "kernelspec": {
   "display_name": "Python 3",
   "language": "python",
   "name": "python3"
  },
  "language_info": {
   "codemirror_mode": {
    "name": "ipython",
    "version": 3
   },
   "file_extension": ".py",
   "mimetype": "text/x-python",
   "name": "python",
   "nbconvert_exporter": "python",
   "pygments_lexer": "ipython3",
   "version": "3.6.6"
  }
 },
 "nbformat": 4,
 "nbformat_minor": 2
}
